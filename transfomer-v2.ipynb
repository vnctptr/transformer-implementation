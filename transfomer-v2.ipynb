{
 "cells": [
  {
   "cell_type": "markdown",
   "id": "a869ba3e",
   "metadata": {},
   "source": [
    "# Transformer Implementation v2\n",
    "[Video tutorial](https://www.youtube.com/watch?v=OzFmKdAHJn0&t=10s)"
   ]
  },
  {
   "cell_type": "markdown",
   "id": "7294110e",
   "metadata": {},
   "source": [
    "### Attention\n",
    "$Y = softmax(\\frac{KQT}{\\sqrt{a}})v$"
   ]
  },
  {
   "cell_type": "code",
   "execution_count": 1,
   "id": "6970c3fb",
   "metadata": {},
   "outputs": [],
   "source": [
    "import numpy as np\n",
    "import torch \n",
    "import torch.nn as nn"
   ]
  },
  {
   "cell_type": "code",
   "execution_count": null,
   "id": "811c2d12",
   "metadata": {},
   "outputs": [],
   "source": [
    "def softmax(Z):\n",
    "    Z = np.exp(Z - Z.max(axis=-1, keepdims=True))\n",
    "    Z = Z / Z.sum(axis=-1, keepdims=True)\n",
    "\n",
    "def self_attention(X, mask, W_KQV, W_out):\n",
    "    K, Q, V = np.split(X@W_KQV, 3, axis=1)\n",
    "    attn = softmax(K@Q.T / np.sqrt(X.shape[1]) + mask)\n",
    "    \n",
    "    return attn@V@W_out"
   ]
  }
 ],
 "metadata": {
  "kernelspec": {
   "display_name": "Python 3 (ipykernel)",
   "language": "python",
   "name": "python3"
  },
  "language_info": {
   "codemirror_mode": {
    "name": "ipython",
    "version": 3
   },
   "file_extension": ".py",
   "mimetype": "text/x-python",
   "name": "python",
   "nbconvert_exporter": "python",
   "pygments_lexer": "ipython3",
   "version": "3.10.9"
  }
 },
 "nbformat": 4,
 "nbformat_minor": 5
}
