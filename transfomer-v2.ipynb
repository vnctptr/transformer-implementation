{
 "cells": [
  {
   "cell_type": "markdown",
   "id": "a869ba3e",
   "metadata": {},
   "source": [
    "# Transformer Implementation v2\n",
    "[Video tutorial](https://www.youtube.com/watch?v=OzFmKdAHJn0&t=10s)"
   ]
  },
  {
   "cell_type": "code",
   "execution_count": 3,
   "id": "2daec48e",
   "metadata": {},
   "outputs": [],
   "source": [
    "import numpy as np\n",
    "import torch \n",
    "import torch.nn as nn"
   ]
  },
  {
   "cell_type": "markdown",
   "id": "7294110e",
   "metadata": {},
   "source": [
    "### Attention\n",
    "$Y = softmax(\\frac{KQT}{\\sqrt{a}})v$"
   ]
  }
 ],
 "metadata": {
  "kernelspec": {
   "display_name": "Python 3 (ipykernel)",
   "language": "python",
   "name": "python3"
  },
  "language_info": {
   "codemirror_mode": {
    "name": "ipython",
    "version": 3
   },
   "file_extension": ".py",
   "mimetype": "text/x-python",
   "name": "python",
   "nbconvert_exporter": "python",
   "pygments_lexer": "ipython3",
   "version": "3.10.9"
  }
 },
 "nbformat": 4,
 "nbformat_minor": 5
}
