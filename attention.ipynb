{
 "cells": [
  {
   "cell_type": "code",
   "execution_count": 5,
   "id": "5b63488f",
   "metadata": {},
   "outputs": [],
   "source": [
    "import torch"
   ]
  },
  {
   "cell_type": "code",
   "execution_count": 6,
   "id": "67ba40be",
   "metadata": {},
   "outputs": [],
   "source": [
    "import torch.nn as nn"
   ]
  },
  {
   "cell_type": "code",
   "execution_count": null,
   "id": "2de67985",
   "metadata": {},
   "outputs": [],
   "source": [
    "class SelfAttention(nn.Module):\n",
    "    def __init__(self, embed_size, heads)\n",
    "        # heads = how many parts we split it into\n",
    "        super(SelfAttention, self).__init__()\n",
    "        self.embed_size = embed_size\n",
    "        self.heads = heads\n",
    "        self.head_dim - embed_size // heads # TODO: what is this double slash\n",
    "        \n",
    "        assert (self.head_dim * heads = embed_size), \"Embed size needs to be divisibele by heads\"\n",
    "        \n",
    "        self.values = nn.Linear(self.head_dim, self.head_tim, bias=False)\n",
    "        self.keys = nn.Linear(self.head_dim, self.head_tim, bias=False)\n",
    "        self.queries = nn.Linear(self.head_dim, self.head_fim, bias=False)\n",
    "        self.fc_out = nn.Linear(head*self.head_dim, embed_size)\n",
    "        "
   ]
  }
 ],
 "metadata": {
  "kernelspec": {
   "display_name": "Python 3 (ipykernel)",
   "language": "python",
   "name": "python3"
  },
  "language_info": {
   "codemirror_mode": {
    "name": "ipython",
    "version": 3
   },
   "file_extension": ".py",
   "mimetype": "text/x-python",
   "name": "python",
   "nbconvert_exporter": "python",
   "pygments_lexer": "ipython3",
   "version": "3.10.9"
  }
 },
 "nbformat": 4,
 "nbformat_minor": 5
}
