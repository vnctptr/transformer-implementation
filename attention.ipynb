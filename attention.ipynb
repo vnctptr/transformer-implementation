{
 "cells": [
  {
   "cell_type": "code",
   "execution_count": null,
   "id": "5b63488f",
   "metadata": {},
   "outputs": [],
   "source": [
    "import torch\n",
    "import torch.nn as nn\n",
    "from torch import Tensor\n",
    "import torch.nn.functional as F\n",
    "import math"
   ]
  },
  {
   "cell_type": "code",
   "execution_count": null,
   "id": "308f9cbe",
   "metadata": {},
   "outputs": [],
   "source": [
    "heads = 8\n",
    "d = 512 # embedding size\n",
    "dff = 2049 # expansiondim\n",
    "N = 6 # layers\n",
    "p = 0.1 # dropout rate\n",
    "\n",
    "src = torch.randint(0, 100, (1, 4)) # 100 words in vocab\n",
    "trg = torch.randint(0, 50, (1, 2)) # 2-word target sencence\n"
   ]
  },
  {
   "cell_type": "code",
   "execution_count": null,
   "id": "77db90d7",
   "metadata": {},
   "outputs": [],
   "source": [
    "class Embedding(nn.Module):\n",
    "    # embedding layer with scaling and dropout\n",
    "    def __init__(self, d : int, vocab_size : int):\n",
    "        super().__init__()\n",
    "        self.embedding = nn.Embedding(vocab_size, d)\n",
    "            \n",
    "    def forward(self, x: Tensor) -> Tensor:\n",
    "        return self.embedding(x)"
   ]
  },
  {
   "cell_type": "code",
   "execution_count": null,
   "id": "e4cd4826",
   "metadata": {},
   "outputs": [],
   "source": [
    "e = Embedding(d, 100)\n",
    "e(src).shape"
   ]
  }
 ],
 "metadata": {
  "kernelspec": {
   "display_name": "Python 3 (ipykernel)",
   "language": "python",
   "name": "python3"
  },
  "language_info": {
   "codemirror_mode": {
    "name": "ipython",
    "version": 3
   },
   "file_extension": ".py",
   "mimetype": "text/x-python",
   "name": "python",
   "nbconvert_exporter": "python",
   "pygments_lexer": "ipython3",
   "version": "3.10.9"
  }
 },
 "nbformat": 4,
 "nbformat_minor": 5
}
