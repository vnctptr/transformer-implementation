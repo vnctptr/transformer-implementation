{
 "cells": [
  {
   "cell_type": "code",
   "execution_count": 1,
   "id": "5b63488f",
   "metadata": {},
   "outputs": [],
   "source": [
    "import torch\n",
    "import torch.nn as nn\n",
    "from torch import Tensor\n",
    "import torch.nn.functional as F\n",
    "import math"
   ]
  },
  {
   "cell_type": "code",
   "execution_count": 2,
   "id": "1febabc1",
   "metadata": {},
   "outputs": [],
   "source": [
    "heads = 8\n",
    "d = 512 # embedding size\n",
    "dff = 2049 # expansiondim\n",
    "N = 6 # layers\n",
    "p = 0.1 # dropout rate\n",
    "\n",
    "src = torch.randint(0, 100, (1, 4)) # 100 words in vocab\n",
    "trg = torch.randint(0, 50, (1, 2)) # 2-word target sencence\n"
   ]
  },
  {
   "cell_type": "code",
   "execution_count": 3,
   "id": "66e00d13",
   "metadata": {},
   "outputs": [],
   "source": [
    "class Embedding(nn.Module):\n",
    "    # embedding layer with scaling and dropout\n",
    "    def __init__(self, d : int, vocab_size : int):\n",
    "        super().__init__()\n",
    "        self.embedding = nn.Embedding(vocab_size, d)\n",
    "            \n",
    "    def forward(self, x: Tensor) -> Tensor:\n",
    "        return self.embedding(x)"
   ]
  },
  {
   "cell_type": "code",
   "execution_count": 4,
   "id": "8fe81192",
   "metadata": {},
   "outputs": [
    {
     "data": {
      "text/plain": [
       "torch.Size([1, 4, 512])"
      ]
     },
     "execution_count": 4,
     "metadata": {},
     "output_type": "execute_result"
    }
   ],
   "source": [
    "e = Embedding(d, 100)\n",
    "e(src).shape"
   ]
  },
  {
   "cell_type": "code",
   "execution_count": 19,
   "id": "cfdf675f",
   "metadata": {},
   "outputs": [],
   "source": [
    "class PE(nn.Module):\n",
    "    # Positional encoding fn with dropout\n",
    "    # d = embedding size\n",
    "    # p = prob of dropout\n",
    "    def __init__(self, d : int, p : int, max_len = 100):\n",
    "        super().__init__()\n",
    "        self.pe = torch.zeros(max_len, d)\n",
    "        pos = torch.arange(0, max_len, 1).unsqueeze(1)\n",
    "        div = torch.pow(10_000, 2 * torch.arange(0, d, 2) / d)\n",
    "        \n",
    "        self.pe[:, 0::2] = torch.sin(pos / div)\n",
    "        self.pe[:, 1::2] = torch.cos(pos / div)\n",
    "        \n",
    "        self.dropout = nn.Dropout(p)\n",
    "    def forward(self, x: Tensor) -> Tensor:\n",
    "        return self.dropout(x + self.pe[:x.shape[1]])\n",
    "        "
   ]
  },
  {
   "cell_type": "code",
   "execution_count": 20,
   "id": "67cdef44",
   "metadata": {},
   "outputs": [
    {
     "data": {
      "text/plain": [
       "torch.Size([1, 4, 512])"
      ]
     },
     "execution_count": 20,
     "metadata": {},
     "output_type": "execute_result"
    }
   ],
   "source": [
    "pe = PE(d, p)\n",
    "pe(e(src)).shape"
   ]
  },
  {
   "cell_type": "code",
   "execution_count": 21,
   "id": "ddb0c0b5",
   "metadata": {},
   "outputs": [],
   "source": [
    "class SelfAttention(nn.Module):\n",
    "    # Multi head self-attention sub-layer\n",
    "    \n",
    "    def __init__(self, heads : int, d : int):\n",
    "        super().__init__()\n",
    "        \n",
    "        self.heads = heads\n",
    "        self.head_dim = d // heads\n",
    "        self.d = d\n",
    "        self.Q = nn.Linear(self.head_dim, self.head_dim)\n",
    "        self.K = nn.Linear(self.head_dim, self.head_dim)\n",
    "        self.V = nn.Linear(self.head_dim, self.head_dim)\n",
    "\n",
    "        self.linear = nn.Linear(self.d, self.d)\n",
    "        self.norm = nn.LayerNorm(d)\n",
    "        \n",
    "    def forward(self, q: Tensor, k: Tensor, v: Tensor, mask=None) -> Tensor:\n",
    "        batch = q.shape[0]\n",
    "        q_len = q.shape[1] # query length\n",
    "        k_len = k.shape[1]\n",
    "        v_len = v.shape[1]\n",
    "        \n",
    "        Q = self.Q(q.reshape(batch, q_len, self.heads, self.head_dim))\n",
    "        K = self.K(q.reshape(batch, q_len, self.heads, self.head_dim))\n",
    "        V = self.V(q.reshape(batch, q_len, self.heads, self.head_dim))\n",
    "        \n",
    "        QK = torch.einsum(\"bqhd, bkhd -> bhqk\", [Q, K])\n",
    "        scale = QK / math.sqrt(self.d)\n",
    "        \n",
    "        if mask is not None:\n",
    "            scale = scale.masked_fill(mask == 0, float(\"-inf\"))\n",
    "            \n",
    "        softmax = F.softmax(scale, dim=1)\n",
    "        output = torch.einsum(\"bhqk, bvhd -> bqhd\", [softmax, V])\n",
    "        concat = output.reshape(batch, q_len, self.d)\n",
    "        addnorm = self.norm(linear + q)\n",
    "        \n",
    "        return addnorm\n",
    "            "
   ]
  },
  {
   "cell_type": "code",
   "execution_count": 22,
   "id": "61517c9e",
   "metadata": {},
   "outputs": [
    {
     "ename": "NameError",
     "evalue": "name 'linear' is not defined",
     "output_type": "error",
     "traceback": [
      "\u001b[0;31m---------------------------------------------------------------------------\u001b[0m",
      "\u001b[0;31mNameError\u001b[0m                                 Traceback (most recent call last)",
      "Cell \u001b[0;32mIn[22], line 3\u001b[0m\n\u001b[1;32m      1\u001b[0m s \u001b[38;5;241m=\u001b[39m SelfAttention(heads, d)\n\u001b[1;32m      2\u001b[0m x \u001b[38;5;241m=\u001b[39m pe(e(src))\n\u001b[0;32m----> 3\u001b[0m \u001b[43ms\u001b[49m\u001b[43m(\u001b[49m\u001b[43mx\u001b[49m\u001b[43m,\u001b[49m\u001b[43m \u001b[49m\u001b[43mx\u001b[49m\u001b[43m,\u001b[49m\u001b[43m \u001b[49m\u001b[43mx\u001b[49m\u001b[43m)\u001b[49m\u001b[38;5;241m.\u001b[39mshape\n",
      "File \u001b[0;32m~/anaconda3/lib/python3.10/site-packages/torch/nn/modules/module.py:1130\u001b[0m, in \u001b[0;36mModule._call_impl\u001b[0;34m(self, *input, **kwargs)\u001b[0m\n\u001b[1;32m   1126\u001b[0m \u001b[38;5;66;03m# If we don't have any hooks, we want to skip the rest of the logic in\u001b[39;00m\n\u001b[1;32m   1127\u001b[0m \u001b[38;5;66;03m# this function, and just call forward.\u001b[39;00m\n\u001b[1;32m   1128\u001b[0m \u001b[38;5;28;01mif\u001b[39;00m \u001b[38;5;129;01mnot\u001b[39;00m (\u001b[38;5;28mself\u001b[39m\u001b[38;5;241m.\u001b[39m_backward_hooks \u001b[38;5;129;01mor\u001b[39;00m \u001b[38;5;28mself\u001b[39m\u001b[38;5;241m.\u001b[39m_forward_hooks \u001b[38;5;129;01mor\u001b[39;00m \u001b[38;5;28mself\u001b[39m\u001b[38;5;241m.\u001b[39m_forward_pre_hooks \u001b[38;5;129;01mor\u001b[39;00m _global_backward_hooks\n\u001b[1;32m   1129\u001b[0m         \u001b[38;5;129;01mor\u001b[39;00m _global_forward_hooks \u001b[38;5;129;01mor\u001b[39;00m _global_forward_pre_hooks):\n\u001b[0;32m-> 1130\u001b[0m     \u001b[38;5;28;01mreturn\u001b[39;00m \u001b[43mforward_call\u001b[49m\u001b[43m(\u001b[49m\u001b[38;5;241;43m*\u001b[39;49m\u001b[38;5;28;43minput\u001b[39;49m\u001b[43m,\u001b[49m\u001b[43m \u001b[49m\u001b[38;5;241;43m*\u001b[39;49m\u001b[38;5;241;43m*\u001b[39;49m\u001b[43mkwargs\u001b[49m\u001b[43m)\u001b[49m\n\u001b[1;32m   1131\u001b[0m \u001b[38;5;66;03m# Do not call functions when jit is used\u001b[39;00m\n\u001b[1;32m   1132\u001b[0m full_backward_hooks, non_full_backward_hooks \u001b[38;5;241m=\u001b[39m [], []\n",
      "Cell \u001b[0;32mIn[21], line 36\u001b[0m, in \u001b[0;36mSelfAttention.forward\u001b[0;34m(self, q, k, v, mask)\u001b[0m\n\u001b[1;32m     34\u001b[0m output \u001b[38;5;241m=\u001b[39m torch\u001b[38;5;241m.\u001b[39meinsum(\u001b[38;5;124m\"\u001b[39m\u001b[38;5;124mbhqk, bvhd -> bqhd\u001b[39m\u001b[38;5;124m\"\u001b[39m, [softmax, V])\n\u001b[1;32m     35\u001b[0m concat \u001b[38;5;241m=\u001b[39m output\u001b[38;5;241m.\u001b[39mreshape(batch, q_len, \u001b[38;5;28mself\u001b[39m\u001b[38;5;241m.\u001b[39md)\n\u001b[0;32m---> 36\u001b[0m addnorm \u001b[38;5;241m=\u001b[39m \u001b[38;5;28mself\u001b[39m\u001b[38;5;241m.\u001b[39mnorm(\u001b[43mlinear\u001b[49m \u001b[38;5;241m+\u001b[39m q)\n\u001b[1;32m     38\u001b[0m \u001b[38;5;28;01mreturn\u001b[39;00m addnorm\n",
      "\u001b[0;31mNameError\u001b[0m: name 'linear' is not defined"
     ]
    }
   ],
   "source": [
    "s = SelfAttention(heads, d)\n",
    "x = pe(e(src))\n",
    "s(x, x, x).shape"
   ]
  },
  {
   "cell_type": "code",
   "execution_count": null,
   "id": "f1c97642",
   "metadata": {},
   "outputs": [],
   "source": []
  }
 ],
 "metadata": {
  "kernelspec": {
   "display_name": "Python 3 (ipykernel)",
   "language": "python",
   "name": "python3"
  },
  "language_info": {
   "codemirror_mode": {
    "name": "ipython",
    "version": 3
   },
   "file_extension": ".py",
   "mimetype": "text/x-python",
   "name": "python",
   "nbconvert_exporter": "python",
   "pygments_lexer": "ipython3",
   "version": "3.10.9"
  }
 },
 "nbformat": 4,
 "nbformat_minor": 5
}
