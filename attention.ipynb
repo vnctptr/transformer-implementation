{
 "cells": [
  {
   "cell_type": "code",
   "execution_count": null,
   "id": "5b63488f",
   "metadata": {},
   "outputs": [],
   "source": [
    "import torch\n",
    "import torch.nn as nn\n",
    "from torch import Tensor\n",
    "import torch.nn.functional as F\n",
    "import math"
   ]
  },
  {
   "cell_type": "code",
   "execution_count": null,
   "id": "1febabc1",
   "metadata": {},
   "outputs": [],
   "source": [
    "heads = 8\n",
    "d = 512 # embedding size\n",
    "dff = 2049 # expansiondim\n",
    "N = 6 # layers\n",
    "p = 0.1 # dropout rate\n",
    "\n",
    "src = torch.randint(0, 100, (1, 4)) # 100 words in vocab\n",
    "trg = torch.randint(0, 50, (1, 2)) # 2-word target sencence\n"
   ]
  },
  {
   "cell_type": "code",
   "execution_count": null,
   "id": "66e00d13",
   "metadata": {},
   "outputs": [],
   "source": [
    "class Embedding(nn.Module):\n",
    "    # embedding layer with scaling and dropout\n",
    "    def __init__(self, d : int, vocab_size : int):\n",
    "        super().__init__()\n",
    "        self.embedding = nn.Embedding(vocab_size, d)\n",
    "            \n",
    "    def forward(self, x: Tensor) -> Tensor:\n",
    "        return self.embedding(x)"
   ]
  },
  {
   "cell_type": "code",
   "execution_count": null,
   "id": "8fe81192",
   "metadata": {},
   "outputs": [],
   "source": [
    "e = Embedding(d, 100)\n",
    "e(src).shape"
   ]
  },
  {
   "cell_type": "code",
   "execution_count": null,
   "id": "cfdf675f",
   "metadata": {},
   "outputs": [],
   "source": [
    "class PE(nn.Module):\n",
    "    # Positional encoding fn with dropout\n",
    "    # d = embedding size\n",
    "    # p = prob of dropout\n",
    "    def __init__(self, d : int, p : int, max_len = 100):\n",
    "        super().__init__()\n",
    "        self.pe = torch.zeros(max_len, d)\n",
    "        pos = torch.arange(0, max_len, 1).unsqueeze(1)\n",
    "        div = torch.pow(10_000, 2 * torch.arange(0, d, 2) / d)\n",
    "        \n",
    "        self.pe[:, 0::2] = torch.sin(pos / div)\n",
    "        self.pe[:, 1::2] = torch.cos(pos / div)\n",
    "        \n",
    "        self.dropout = nn.Dropout(p)\n",
    "        "
   ]
  },
  {
   "cell_type": "code",
   "execution_count": null,
   "id": "34e2824e",
   "metadata": {},
   "outputs": [],
   "source": [
    "def forward(self, x, Tensor) -> Tensor:\n",
    "    return self.dropout(x + self.pe[:x.shape[1]])\n"
   ]
  },
  {
   "cell_type": "code",
   "execution_count": null,
   "id": "ddb0c0b5",
   "metadata": {},
   "outputs": [],
   "source": [
    "class SelfAttention(nn.Module):\n",
    "    # Multi head self-attention sub-layer\n",
    "    \n",
    "    def __init__(self, heads : int, d : int):\n",
    "        super().__init__()\n",
    "        \n",
    "        self.heads = heads\n",
    "        self.head_dim = d // heads\n",
    "        self.d = d\n",
    "        self.Q = nn.Linear(self.head_dim, self.head_dim)\n",
    "        self.K = nn.Linear(self.head_dim, self.head_dim)\n",
    "        self.V = nn.Linear(self.head_dim, self.head_dim)\n",
    "\n",
    "        self.norm = nn.LayerNorm(d)"
   ]
  }
 ],
 "metadata": {
  "kernelspec": {
   "display_name": "Python 3 (ipykernel)",
   "language": "python",
   "name": "python3"
  },
  "language_info": {
   "codemirror_mode": {
    "name": "ipython",
    "version": 3
   },
   "file_extension": ".py",
   "mimetype": "text/x-python",
   "name": "python",
   "nbconvert_exporter": "python",
   "pygments_lexer": "ipython3",
   "version": "3.10.9"
  }
 },
 "nbformat": 4,
 "nbformat_minor": 5
}
