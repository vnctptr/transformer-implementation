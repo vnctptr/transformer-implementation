{
 "cells": [
  {
   "cell_type": "code",
   "execution_count": null,
   "id": "5b63488f",
   "metadata": {},
   "outputs": [],
   "source": [
    "import torch\n",
    "import torch.nn as nn\n",
    "from torch import Tensor\n",
    "import torch.nn.functional as F\n",
    "import math"
   ]
  },
  {
   "cell_type": "code",
   "execution_count": null,
   "id": "1febabc1",
   "metadata": {},
   "outputs": [],
   "source": [
    "heads = 8\n",
    "d = 512 # embedding size\n",
    "dff = 2049 # expansiondim\n",
    "N = 6 # layers\n",
    "p = 0.1 # dropout rate\n",
    "\n",
    "src = torch.randint(0, 100, (1, 4)) # 100 words in vocab\n",
    "trg = torch.randint(0, 50, (1, 2)) # 2-word target sencence\n"
   ]
  },
  {
   "cell_type": "code",
   "execution_count": null,
   "id": "66e00d13",
   "metadata": {},
   "outputs": [],
   "source": [
    "class Embedding(nn.Module):\n",
    "    # embedding layer with scaling and dropout\n",
    "    def __init__(self, d : int, vocab_size : int):\n",
    "        super().__init__()\n",
    "        self.embedding = nn.Embedding(vocab_size, d)\n",
    "            \n",
    "    def forward(self, x: Tensor) -> Tensor:\n",
    "        return self.embedding(x)"
   ]
  },
  {
   "cell_type": "code",
   "execution_count": null,
   "id": "8fe81192",
   "metadata": {},
   "outputs": [],
   "source": [
    "e = Embedding(d, 100)\n",
    "e(src).shape"
   ]
  },
  {
   "cell_type": "code",
   "execution_count": null,
   "id": "cfdf675f",
   "metadata": {},
   "outputs": [],
   "source": [
    "class PE(nn.Module):\n",
    "    # Positional encoding fn with dropout\n",
    "    # d = embedding size\n",
    "    # p = prob of dropout\n",
    "    def __init__(self, d : int, p : int, max_len = 100):\n",
    "        super().__init__()\n",
    "        self.pe = torch.zeros(max_len, d)\n",
    "        pos = torch.arange(0, max_len, 1).unsqueeze(1)\n",
    "        div = torch.pow(10_000, 2 * torch.arange(0, d, 2) / d)\n",
    "        \n",
    "        self.pe[:, 0::2] = torch.sin(pos / div)\n",
    "        self.pe[:, 1::2] = torch.cos(pos / div)\n",
    "        \n",
    "        self.dropout = nn.Dropout(p)\n",
    "    def forward(self, x: Tensor) -> Tensor:\n",
    "        return self.dropout(x + self.pe[:x.shape[1]])\n",
    "        "
   ]
  },
  {
   "cell_type": "code",
   "execution_count": null,
   "id": "b827c800",
   "metadata": {},
   "outputs": [],
   "source": [
    "pe = PE(d, p)\n",
    "pe(e(src)).shape"
   ]
  },
  {
   "cell_type": "code",
   "execution_count": null,
   "id": "ddb0c0b5",
   "metadata": {},
   "outputs": [],
   "source": [
    "class SelfAttention(nn.Module):\n",
    "    # Multi head self-attention sub-layer\n",
    "    \n",
    "    def __init__(self, heads : int, d : int):\n",
    "        super().__init__()\n",
    "        \n",
    "        self.heads = heads\n",
    "        self.head_dim = d // heads\n",
    "        self.d = d\n",
    "        self.Q = nn.Linear(self.head_dim, self.head_dim)\n",
    "        self.K = nn.Linear(self.head_dim, self.head_dim)\n",
    "        self.V = nn.Linear(self.head_dim, self.head_dim)\n",
    "\n",
    "        self.linear = nn.Linear(self.d, self.d)\n",
    "        self.norm = nn.LayerNorm(d)\n",
    "        \n",
    "    def forward(self, q: Tensor, k: Tensor, v: Tensor, mask=None) -> Tensor:\n",
    "        batch = q.shape[0]\n",
    "        q_len = q.shape[1] # query length\n",
    "        k_len = k.shape[1]\n",
    "        v_len = v.shape[1]\n",
    "        \n",
    "        Q = self.Q(q.reshape(batch, q_len, self.heads, self.head_dim))\n",
    "        K = self.K(q.reshape(batch, q_len, self.heads, self.head_dim))\n",
    "        V = self.V(q.reshape(batch, q_len, self.heads, self.head_dim))\n",
    "        \n",
    "        QK = torch.einsum(\"bqhd, bkhd -> bhqk\", [Q, K])\n",
    "        scale = QK / math.sqrt(self.d)\n",
    "        \n",
    "        if mask is not None:\n",
    "            scale = scale.masked_fill(mask == 0, float(\"-inf\"))\n",
    "            \n",
    "        softmax = F.softmax(scale, dim=1)\n",
    "        output = torch.einsum(\"bhqk, bvhd -> bqhd\", [softmax, V])\n",
    "        concat = output.reshape(batch, q_len, self.d)\n",
    "        linear = self.linear(concat)\n",
    "        addnorm = self.norm(linear + q)\n",
    "        \n",
    "        return addnorm\n",
    "            "
   ]
  },
  {
   "cell_type": "code",
   "execution_count": null,
   "id": "933b3585",
   "metadata": {},
   "outputs": [],
   "source": [
    "s = SelfAttention(heads, d)\n",
    "x = pe(e(src))\n",
    "s(x, x, x).shape"
   ]
  },
  {
   "cell_type": "code",
   "execution_count": null,
   "id": "d728303c",
   "metadata": {},
   "outputs": [],
   "source": [
    "class FeedForward(nn.Module):\n",
    "    # feed forwrd network with 3 linear transformations\n",
    "    # ReLU with Add&Norm operation\n",
    "    def __init__(self, d: int, df: int):\n",
    "        super().__init__()\n",
    "        \n",
    "        self.ff = nn.Sequential(\n",
    "            nn.Linear(d, dff),\n",
    "            nn.ReLU(),\n",
    "            nn.Linear(dff, d))\n",
    "        \n",
    "        self.norm = nn.LayerNorm(d)\n",
    "        \n",
    "    def forward(self, x: Tensor) -> Tensor:\n",
    "        return self.norm(x + self.ff(x))\n",
    "        "
   ]
  },
  {
   "cell_type": "code",
   "execution_count": null,
   "id": "6fa79f67",
   "metadata": {},
   "outputs": [],
   "source": [
    "f = FeedForward(d, dff)\n",
    "x = s(x, x, x)\n",
    "f(x).shape"
   ]
  },
  {
   "cell_type": "code",
   "execution_count": null,
   "id": "0b1ac01e",
   "metadata": {},
   "outputs": [],
   "source": [
    "class EncoderLayer(nn.Module):\n",
    "    # Encoder with 2 sub-layers molti-head attention and position-wise feed forward network\n",
    "    \n",
    "    def __init__(self, heads: int, d: int, dff: int):\n",
    "        super().__init__()\n",
    "        \n",
    "        self.attention = SelfAttention(heads, d)\n",
    "        self.ff = FeedForward(d, dff)\n",
    "        \n",
    "    def forward(self, q: Tensor, k: Tensor, v: Tensor) -> Tensor:\n",
    "        return self.ff(self.attention(q, k, v))\n",
    "    "
   ]
  },
  {
   "cell_type": "code",
   "execution_count": null,
   "id": "1b947e67",
   "metadata": {},
   "outputs": [],
   "source": [
    "enc = EncoderLayer(heads, d, dff)\n",
    "x = pe(e(src))\n",
    "enc(x, x, x).shape"
   ]
  },
  {
   "cell_type": "code",
   "execution_count": null,
   "id": "289c1a78",
   "metadata": {},
   "outputs": [],
   "source": [
    "class DecoderLayer(nn.Module):\n",
    "    def __init__(self, heads: int, d: int, dff: int):\n",
    "        super().__init__()\n",
    "        \n",
    "        self.masked_attention = SelfAttention(heads, d)\n",
    "        self.enc_layer = EncoderLayer(heads, d, dff)\n",
    "    \n",
    "    def forward(self, x: Tensor, k: Tensor, v: Tensor, trg_mask: Tensor) -> Tensor:\n",
    "        q = self.masked_attention(x, x, x, trg_mask)\n",
    "        return self.enc_layer(q, k, v)        "
   ]
  },
  {
   "cell_type": "code",
   "execution_count": null,
   "id": "8596ee14",
   "metadata": {},
   "outputs": [],
   "source": [
    "class EncoderDecoder(nn.Module):\n",
    "    def __init__(self, heads: int, d: int, dff: int, N: int):\n",
    "        super().__init__()\n",
    "        \n",
    "        self.enc_layer = nn.ModuleList([EncoderLayer(heads, d, dff) for _ in range(N)])\n",
    "        self.dec_layer = nn.ModuleList([DecoderLayer(heads, d, dff) for _ in range(N)])\n",
    "        \n",
    "    def forward(self, src: Tensor, trg: Tensor) -> Tensor:\n",
    "        for enc in self.enc_layer:\n",
    "            src = enc(src, src, src)\n",
    "        \n",
    "        for dec in self.dec_layer:\n",
    "            trg = dec(trg, src, src, self._make_mask(trg))\n",
    "    \n",
    "        return trg\n",
    "    \n",
    "    def _make_mask(self, trg):\n",
    "        # trg shape: [1, 4, 512]\n",
    "        batch, trg_len, _ = trg.shape\n",
    "        mask = torch.tril(torch.ones(trg_len, trg_len))\n",
    "        return mask.reshape(batch, 1, trg_len, trg_len)\n",
    "            "
   ]
  },
  {
   "cell_type": "code",
   "execution_count": null,
   "id": "47ef00f0",
   "metadata": {},
   "outputs": [],
   "source": [
    "encdec = EncoderDecoder(heads, d, dff, N)\n",
    "s = pe(e(src))\n",
    "t = pe(e(src))\n",
    "encdec(s, t).shape"
   ]
  },
  {
   "cell_type": "code",
   "execution_count": null,
   "id": "0ae5f6ba",
   "metadata": {},
   "outputs": [],
   "source": []
  }
 ],
 "metadata": {
  "kernelspec": {
   "display_name": "Python 3 (ipykernel)",
   "language": "python",
   "name": "python3"
  },
  "language_info": {
   "codemirror_mode": {
    "name": "ipython",
    "version": 3
   },
   "file_extension": ".py",
   "mimetype": "text/x-python",
   "name": "python",
   "nbconvert_exporter": "python",
   "pygments_lexer": "ipython3",
   "version": "3.10.9"
  }
 },
 "nbformat": 4,
 "nbformat_minor": 5
}
